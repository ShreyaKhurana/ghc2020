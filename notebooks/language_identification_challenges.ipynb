{
 "cells": [
  {
   "cell_type": "markdown",
   "metadata": {},
   "source": [
    "## CLD3"
   ]
  },
  {
   "cell_type": "code",
   "execution_count": 1,
   "metadata": {},
   "outputs": [],
   "source": [
    "import cld3\n",
    "# The module used is : https://github.com/bsolomon1124/pycld3. See how to install here.\n",
    "#!pip install cpython==3.5\n",
    "#!brew update\n",
    "#!brew upgrade protobuf || brew install -v protobuf\n",
    "#!python -m pip install -U pycld3"
   ]
  },
  {
   "cell_type": "markdown",
   "metadata": {},
   "source": [
    "cld3 supports two functions - get_language and get_frequent_languages. We'll see how they perform"
   ]
  },
  {
   "cell_type": "code",
   "execution_count": 2,
   "metadata": {},
   "outputs": [
    {
     "data": {
      "text/plain": [
       "LanguagePrediction(language='en', probability=0.5319557189941406, is_reliable=False, proportion=1.0)"
      ]
     },
     "execution_count": 2,
     "metadata": {},
     "output_type": "execute_result"
    }
   ],
   "source": [
    "cld3.get_language(\"Je veux que: https://site.english.com/this/is/a/url/path/component#fragment\")"
   ]
  },
  {
   "cell_type": "code",
   "execution_count": 5,
   "metadata": {},
   "outputs": [
    {
     "data": {
      "text/plain": [
       "[LanguagePrediction(language='en', probability=0.5319557189941406, is_reliable=False, proportion=1.0),\n",
       " LanguagePrediction(language='und', probability=0.0, is_reliable=False, proportion=0.0),\n",
       " LanguagePrediction(language='und', probability=0.0, is_reliable=False, proportion=0.0)]"
      ]
     },
     "execution_count": 5,
     "metadata": {},
     "output_type": "execute_result"
    }
   ],
   "source": [
    "cld3.get_frequent_languages(\"Je veux que: https://site.english.com/this/is/a/url/path/component#fragment\", num_langs=3)"
   ]
  },
  {
   "cell_type": "markdown",
   "metadata": {},
   "source": [
    "### Transliterated text"
   ]
  },
  {
   "cell_type": "markdown",
   "metadata": {},
   "source": [
    "Now let's try to predict some transliterated text using this. The library supports the following languages:\n",
    "\n",
    "    \"eo\", \"co\", \"eu\", \"ta\", \"de\", \"mt\", \"ps\", \"te\", \"su\", \"uz\", \"zh-Latn\", \"ne\",\n",
    "    \"nl\", \"sw\", \"sq\", \"hmn\", \"ja\", \"no\", \"mn\", \"so\", \"ko\", \"th\", \"kk\", \"sl\",\n",
    "    \"ig\", \"mr\", \"zu\", \"ml\", \"hr\", \"bs\", \"lo\", \"sd\", \"cy\", \"hy\", \"uk\", \"pt\",\n",
    "    \"yi\", \"lv\", \"iw\", \"cs\", \"vi\", \"jv\", \"be\", \"km\", \"mk\", \"tr\", \"am\", \"zh\",\n",
    "    \"da\", \"sv\", \"fi\", \"ht\", \"af\", \"la\", \"id\", \"fil\", \"sm\", \"ca\", \"el\", \"ka\",\n",
    "    \"sr\", \"it\", \"sk\", \"ru\", \"ru-Latn\", \"bg\", \"ny\", \"fa\", \"fy\", \"haw\", \"gl\",\n",
    "    \"et\", \"ms\", \"gd\", \"bg-Latn\", \"ha\", \"is\", \"ur\", \"mi\", \"hi\", \"bn\", \"hi-Latn\",\n",
    "    \"fr\", \"hu\", \"xh\", \"my\", \"tg\", \"ro\", \"ar\", \"lb\", \"el-Latn\", \"st\", \"ceb\",\n",
    "    \"kn\", \"az\", \"si\", \"ky\", \"mg\", \"en\", \"gu\", \"es\", \"pl\", \"ja-Latn\", \"ga\", \"lt\",\n",
    "    \"sn\", \"yo\", \"pa\", \"ku\",\n"
   ]
  },
  {
   "cell_type": "code",
   "execution_count": 8,
   "metadata": {},
   "outputs": [
    {
     "data": {
      "text/plain": [
       "[LanguagePrediction(language='ru-Latn', probability=0.8417865633964539, is_reliable=True, proportion=1.0),\n",
       " LanguagePrediction(language='und', probability=0.0, is_reliable=False, proportion=0.0),\n",
       " LanguagePrediction(language='und', probability=0.0, is_reliable=False, proportion=0.0),\n",
       " LanguagePrediction(language='und', probability=0.0, is_reliable=False, proportion=0.0)]"
      ]
     },
     "execution_count": 8,
     "metadata": {},
     "output_type": "execute_result"
    }
   ],
   "source": [
    "# Some languages are easy to understand because they're available in this library\n",
    "cld3.get_language(\"Privet, kak tebya zovut?\")"
   ]
  },
  {
   "cell_type": "code",
   "execution_count": 12,
   "metadata": {},
   "outputs": [
    {
     "data": {
      "text/plain": [
       "[LanguagePrediction(language='ru', probability=0.995514452457428, is_reliable=True, proportion=1.0),\n",
       " LanguagePrediction(language='und', probability=0.0, is_reliable=False, proportion=0.0),\n",
       " LanguagePrediction(language='und', probability=0.0, is_reliable=False, proportion=0.0),\n",
       " LanguagePrediction(language='und', probability=0.0, is_reliable=False, proportion=0.0)]"
      ]
     },
     "execution_count": 12,
     "metadata": {},
     "output_type": "execute_result"
    }
   ],
   "source": [
    "# Russian native script for \"I want to go to the market\"\n",
    "cld3.get_frequent_languages(\"Я иду на рынок сегодня\", num_langs=4)"
   ]
  },
  {
   "cell_type": "code",
   "execution_count": 7,
   "metadata": {},
   "outputs": [
    {
     "data": {
      "text/plain": [
       "[LanguagePrediction(language='fi', probability=0.47270092368125916, is_reliable=False, proportion=1.0),\n",
       " LanguagePrediction(language='und', probability=0.0, is_reliable=False, proportion=0.0),\n",
       " LanguagePrediction(language='und', probability=0.0, is_reliable=False, proportion=0.0),\n",
       " LanguagePrediction(language='und', probability=0.0, is_reliable=False, proportion=0.0)]"
      ]
     },
     "execution_count": 7,
     "metadata": {},
     "output_type": "execute_result"
    }
   ],
   "source": [
    "# This is a text piece in Hindi transliterated to Roman characters, should support it, but doesn't do a good job\n",
    "cld3.get_frequent_languages(\"Main Madhuri Dixit banna chahti hoon\", num_langs=4)\n",
    "# Predicts Finnish"
   ]
  },
  {
   "cell_type": "code",
   "execution_count": 9,
   "metadata": {},
   "outputs": [
    {
     "data": {
      "text/plain": [
       "[LanguagePrediction(language='gd', probability=0.4288159906864166, is_reliable=False, proportion=1.0),\n",
       " LanguagePrediction(language='und', probability=0.0, is_reliable=False, proportion=0.0),\n",
       " LanguagePrediction(language='und', probability=0.0, is_reliable=False, proportion=0.0),\n",
       " LanguagePrediction(language='und', probability=0.0, is_reliable=False, proportion=0.0)]"
      ]
     },
     "execution_count": 9,
     "metadata": {},
     "output_type": "execute_result"
    }
   ],
   "source": [
    "# This is transliterated Hindi for \"How are you? I'm good\"\n",
    "cld3.get_frequent_languages(\"Kya haal hai? Main achhi hoon\", num_langs=4)\n",
    "# Gaelic is the prediction"
   ]
  },
  {
   "cell_type": "code",
   "execution_count": 11,
   "metadata": {},
   "outputs": [
    {
     "data": {
      "text/plain": [
       "[LanguagePrediction(language='sw', probability=0.9990677237510681, is_reliable=True, proportion=1.0),\n",
       " LanguagePrediction(language='und', probability=0.0, is_reliable=False, proportion=0.0),\n",
       " LanguagePrediction(language='und', probability=0.0, is_reliable=False, proportion=0.0),\n",
       " LanguagePrediction(language='und', probability=0.0, is_reliable=False, proportion=0.0),\n",
       " LanguagePrediction(language='und', probability=0.0, is_reliable=False, proportion=0.0)]"
      ]
     },
     "execution_count": 11,
     "metadata": {},
     "output_type": "execute_result"
    }
   ],
   "source": [
    "# Swahili native script for \"I want to go to the market\"\n",
    "cld3.get_frequent_languages(\"Naenda kwa alama leo\", num_langs=5)"
   ]
  },
  {
   "cell_type": "code",
   "execution_count": 14,
   "metadata": {},
   "outputs": [
    {
     "data": {
      "text/plain": [
       "[LanguagePrediction(language='mi', probability=0.8353496193885803, is_reliable=True, proportion=1.0),\n",
       " LanguagePrediction(language='und', probability=0.0, is_reliable=False, proportion=0.0)]"
      ]
     },
     "execution_count": 14,
     "metadata": {},
     "output_type": "execute_result"
    }
   ],
   "source": [
    "# Let's try mix and match - short phrase in Spanglish meaning \"but like\"\n",
    "cld3.get_frequent_languages(\"Pero like\", num_langs=2)\n",
    "# Predicts Maori - a language used by an indigenous group in NZ"
   ]
  },
  {
   "cell_type": "code",
   "execution_count": 16,
   "metadata": {},
   "outputs": [
    {
     "data": {
      "text/plain": [
       "[LanguagePrediction(language='en', probability=0.41589194536209106, is_reliable=False, proportion=1.0),\n",
       " LanguagePrediction(language='und', probability=0.0, is_reliable=False, proportion=0.0)]"
      ]
     },
     "execution_count": 16,
     "metadata": {},
     "output_type": "execute_result"
    }
   ],
   "source": [
    "cld3.get_frequent_languages(\"Cojelo con take it easy\", num_langs=2)"
   ]
  },
  {
   "cell_type": "code",
   "execution_count": 20,
   "metadata": {},
   "outputs": [
    {
     "data": {
      "text/plain": [
       "[LanguagePrediction(language='ca', probability=0.5457612872123718, is_reliable=False, proportion=1.0),\n",
       " LanguagePrediction(language='und', probability=0.0, is_reliable=False, proportion=0.0)]"
      ]
     },
     "execution_count": 20,
     "metadata": {},
     "output_type": "execute_result"
    }
   ],
   "source": [
    "# Franglais\n",
    "cld3.get_frequent_languages(\"Ce week-end va être super cool.\", num_langs=2)\n",
    "# Predicts catalan- western Romance language derived from Latin"
   ]
  },
  {
   "cell_type": "markdown",
   "metadata": {},
   "source": [
    "## LangID"
   ]
  },
  {
   "cell_type": "code",
   "execution_count": null,
   "metadata": {},
   "outputs": [],
   "source": [
    "# https://github.com/saffsd/langid.py\n",
    "# This library does NOT support any transliterated languages. Uncomment the below line to install\n",
    "#!pip install langid\n",
    "#!mv langid.py/ langid/\n",
    "# the above line is optional"
   ]
  },
  {
   "cell_type": "code",
   "execution_count": 13,
   "metadata": {},
   "outputs": [],
   "source": [
    "!cd langid/"
   ]
  },
  {
   "cell_type": "code",
   "execution_count": 14,
   "metadata": {},
   "outputs": [],
   "source": [
    "from langid import langid"
   ]
  },
  {
   "cell_type": "code",
   "execution_count": 15,
   "metadata": {},
   "outputs": [
    {
     "data": {
      "text/plain": [
       "('en', -45.242400884628296)"
      ]
     },
     "execution_count": 15,
     "metadata": {},
     "output_type": "execute_result"
    }
   ],
   "source": [
    "langid.classify(\"Hello! How are you this fine day?\")"
   ]
  },
  {
   "cell_type": "code",
   "execution_count": 19,
   "metadata": {},
   "outputs": [],
   "source": [
    "from langid.langid.langid import LanguageIdentifier, model"
   ]
  },
  {
   "cell_type": "code",
   "execution_count": 20,
   "metadata": {},
   "outputs": [
    {
     "data": {
      "text/plain": [
       "('en', 0.9999998136419443)"
      ]
     },
     "execution_count": 20,
     "metadata": {},
     "output_type": "execute_result"
    }
   ],
   "source": [
    "# Probability Normalization\n",
    "identifier = LanguageIdentifier.from_modelstring(model, norm_probs=True)\n",
    "identifier.classify(\"Hello! How are you this fine day?\")"
   ]
  },
  {
   "cell_type": "code",
   "execution_count": 22,
   "metadata": {},
   "outputs": [
    {
     "data": {
      "text/plain": [
       "('fr', 0.9999992773657777)"
      ]
     },
     "execution_count": 22,
     "metadata": {},
     "output_type": "execute_result"
    }
   ],
   "source": [
    "identifier.classify(\"Je veux que: https://site.english.com/this/is/a/url/path/component#fragment\")"
   ]
  },
  {
   "cell_type": "code",
   "execution_count": 23,
   "metadata": {},
   "outputs": [
    {
     "data": {
      "text/plain": [
       "('ms', 0.5526980270071106)"
      ]
     },
     "execution_count": 23,
     "metadata": {},
     "output_type": "execute_result"
    }
   ],
   "source": [
    "# Expected: Swahili, Predicted: Malay\n",
    "identifier.classify(\"Naenda kwa alama leo\")"
   ]
  },
  {
   "cell_type": "code",
   "execution_count": 24,
   "metadata": {},
   "outputs": [
    {
     "data": {
      "text/plain": [
       "('ga', 0.5746522148102053)"
      ]
     },
     "execution_count": 24,
     "metadata": {},
     "output_type": "execute_result"
    }
   ],
   "source": [
    "# Let's try it on a Hindi transliterated text\n",
    "identifier.classify(\"Main Madhuri Dixit banna chahti hoon\")\n",
    "# Predicts Irish"
   ]
  },
  {
   "cell_type": "code",
   "execution_count": 25,
   "metadata": {},
   "outputs": [
    {
     "data": {
      "text/plain": [
       "('hi', 0.9999999749526877)"
      ]
     },
     "execution_count": 25,
     "metadata": {},
     "output_type": "execute_result"
    }
   ],
   "source": [
    "# Does well on original script\n",
    "identifier.classify(\"अगर आप हिंदी में जानकारी पढ़ना पसंद करते हैं \")"
   ]
  },
  {
   "cell_type": "markdown",
   "metadata": {},
   "source": [
    "### Set languages\n",
    "\n",
    "\n",
    "Let's say you know the dataset can only be in a few languages, with this function you can restrict the set"
   ]
  },
  {
   "cell_type": "code",
   "execution_count": 31,
   "metadata": {},
   "outputs": [
    {
     "data": {
      "text/plain": [
       "('sk', 0.66767735005164)"
      ]
     },
     "execution_count": 31,
     "metadata": {},
     "output_type": "execute_result"
    }
   ],
   "source": [
    "identifier = LanguageIdentifier.from_modelstring(model, norm_probs=True)\n",
    "identifier.set_languages(['ru', 'en', 'it', 'sk'])\n",
    "identifier.classify(\"Privet, kak tebya zovut?\")"
   ]
  },
  {
   "cell_type": "code",
   "execution_count": 29,
   "metadata": {},
   "outputs": [],
   "source": [
    "identifier.set_languages(['hi','en'])"
   ]
  },
  {
   "cell_type": "code",
   "execution_count": 30,
   "metadata": {},
   "outputs": [
    {
     "data": {
      "text/plain": [
       "('en', 0.999999999991774)"
      ]
     },
     "execution_count": 30,
     "metadata": {},
     "output_type": "execute_result"
    }
   ],
   "source": [
    "identifier.classify(\"Main Madhuri Dixit banna chahti hoon\")"
   ]
  },
  {
   "cell_type": "markdown",
   "metadata": {},
   "source": [
    "## Langdetect"
   ]
  },
  {
   "cell_type": "code",
   "execution_count": 50,
   "metadata": {},
   "outputs": [],
   "source": [
    "#!pip install langdetect\n",
    "from langdetect import detect_langs, detect"
   ]
  },
  {
   "cell_type": "markdown",
   "metadata": {},
   "source": [
    "Supports these 55 languages:\n",
    "```\n",
    "af, ar, bg, bn, ca, cs, cy, da, de, el, en, es, et, fa, fi, fr, gu, he,\n",
    "hi, hr, hu, id, it, ja, kn, ko, lt, lv, mk, ml, mr, ne, nl, no, pa, pl,\n",
    "pt, ro, ru, sk, sl, so, sq, sv, sw, ta, te, th, tl, tr, uk, ur, vi, zh-cn, zh-tw\n",
    "```"
   ]
  },
  {
   "cell_type": "code",
   "execution_count": 51,
   "metadata": {},
   "outputs": [
    {
     "data": {
      "text/plain": [
       "[fr:0.9999969224503005]"
      ]
     },
     "execution_count": 51,
     "metadata": {},
     "output_type": "execute_result"
    }
   ],
   "source": [
    "detect_langs(\"Je veux que: https://site.english.com/this/is/a/url/path/component#fragment\")"
   ]
  },
  {
   "cell_type": "code",
   "execution_count": 52,
   "metadata": {},
   "outputs": [
    {
     "data": {
      "text/plain": [
       "[sk:0.7142799432378928, sq:0.14285822332557807, hu:0.14285767370622154]"
      ]
     },
     "execution_count": 52,
     "metadata": {},
     "output_type": "execute_result"
    }
   ],
   "source": [
    "detect_langs(\"Privet, kak tebya zovut?\")\n",
    "# Predicts Slovakian, Albanian, Hungarian"
   ]
  },
  {
   "cell_type": "code",
   "execution_count": 53,
   "metadata": {},
   "outputs": [
    {
     "data": {
      "text/plain": [
       "[sk:0.4081787863462692,\n",
       " sl:0.30518415356009926,\n",
       " hu:0.14285673157416331,\n",
       " sq:0.14285645846989373]"
      ]
     },
     "execution_count": 53,
     "metadata": {},
     "output_type": "execute_result"
    }
   ],
   "source": [
    "detect_langs(\"Privet, kak tebya zovut?\")"
   ]
  },
  {
   "cell_type": "markdown",
   "metadata": {},
   "source": [
    "*Be careful!* This is a non-deterministic library - so it will change predictions every time you run"
   ]
  },
  {
   "cell_type": "code",
   "execution_count": 54,
   "metadata": {},
   "outputs": [],
   "source": [
    "from langdetect import DetectorFactory\n",
    "DetectorFactory.seed = 0"
   ]
  },
  {
   "cell_type": "code",
   "execution_count": 55,
   "metadata": {},
   "outputs": [
    {
     "data": {
      "text/plain": [
       "[hr:0.2857142151330604,\n",
       " sk:0.28571326273782804,\n",
       " sq:0.2857128308459763,\n",
       " hu:0.1428565021344586]"
      ]
     },
     "execution_count": 55,
     "metadata": {},
     "output_type": "execute_result"
    }
   ],
   "source": [
    "detect_langs(\"Privet, kak tebya zovut?\")"
   ]
  },
  {
   "cell_type": "code",
   "execution_count": 56,
   "metadata": {},
   "outputs": [
    {
     "data": {
      "text/plain": [
       "[hr:0.2857142151330604,\n",
       " sk:0.28571326273782804,\n",
       " sq:0.2857128308459763,\n",
       " hu:0.1428565021344586]"
      ]
     },
     "execution_count": 56,
     "metadata": {},
     "output_type": "execute_result"
    }
   ],
   "source": [
    "detect_langs(\"Privet, kak tebya zovut?\")"
   ]
  },
  {
   "cell_type": "code",
   "execution_count": 57,
   "metadata": {},
   "outputs": [
    {
     "data": {
      "text/plain": [
       "[ru:0.9999959546567648]"
      ]
     },
     "execution_count": 57,
     "metadata": {},
     "output_type": "execute_result"
    }
   ],
   "source": [
    "detect_langs(\"Я иду на рынок сегодня\")"
   ]
  },
  {
   "cell_type": "code",
   "execution_count": 58,
   "metadata": {},
   "outputs": [
    {
     "data": {
      "text/plain": [
       "[so:0.9999979650989328]"
      ]
     },
     "execution_count": 58,
     "metadata": {},
     "output_type": "execute_result"
    }
   ],
   "source": [
    "detect_langs(\"Kya haal hai? Main achhi hoon\")\n",
    "# Hindi transliterated is detected as Somali"
   ]
  },
  {
   "cell_type": "markdown",
   "metadata": {},
   "source": [
    "## Annotated Datasets\n",
    "\n",
    "Often what we find is that while we can gather data in one particular language very easily, thanks to well established corpora in the NLP literature, it is extremely difficult to detect transliterated text in Tweets or anywhere on the internet because of the problems shown above.\n",
    "\n",
    "To solve this and have a dataset of good size, it is often required to build your own dataset and manually annotate it. To build a transliterated dataset, it is often easy to go from the native script to the Roman script by having simple rules. For example in the section below we explain how we can do this. Using the ISO codes we can convert all text pieces in native script and then train the model to either distinguish English vs Lang(Roman script) or simply train a language model to feed to a model to generate text.\n",
    "\n",
    "Once you have a model that is able to recognize transliterated text, you could use a web crawler to collect text on the internet that has a high probability of being transliterated/code-switched."
   ]
  },
  {
   "cell_type": "code",
   "execution_count": 5,
   "metadata": {},
   "outputs": [],
   "source": [
    "# I create a very simple transliterator here for Hindi\n",
    "import json\n",
    "CONSONANTS = [\n",
    "        \"क\",\n",
    "        \"च\",\n",
    "        \"ट\",\n",
    "        \"त\",\n",
    "        \"प\",\n",
    "        \"ख\",\n",
    "        \"छ\",\n",
    "        \"ठ\",\n",
    "        \"थ\",\n",
    "        \"फ\",\n",
    "        \"ग\",\n",
    "        \"ज\",\n",
    "        \"ड\",\n",
    "        \"द\",\n",
    "        \"ब\",\n",
    "        \"घ\",\n",
    "        \"झ\",\n",
    "        \"ढ\",\n",
    "        \"ध\",\n",
    "        \"भ\",\n",
    "        \"न\",\n",
    "        \"म\",\n",
    "        \"ह\",\n",
    "        \"य\",\n",
    "        \"र\",\n",
    "        \"ल\",\n",
    "        \"व\",\n",
    "        \"श\",\n",
    "        \"ष\",\n",
    "        \"स\",\n",
    "        ]"
   ]
  },
  {
   "cell_type": "code",
   "execution_count": 6,
   "metadata": {},
   "outputs": [],
   "source": [
    "class Transliterator(object):\n",
    "\n",
    "    def __init__(self):\n",
    "        self.load_rules()\n",
    "\n",
    "    def load_rules(self):\n",
    "        with open(\"../rules.json\", 'r', encoding='utf-8') as f:\n",
    "            self.rules = json.load(f)\n",
    "            \n",
    "        \n",
    "        self.consonants = CONSONANTS\n",
    "        self.ein = [\"े\"]\n",
    "        self.n_sounds = [\"ं\", \"ँ\"]\n",
    "\n",
    "    def convert(self, string):\n",
    "        converted = []\n",
    "        for word in string.split(' '):\n",
    "            res = \"\"\n",
    "            for i, letter in enumerate(word):\n",
    "                op = self.rules.get(letter, \"\")\n",
    "\n",
    "                if isinstance(op, list):\n",
    "                    op = op[0]\n",
    "                if i  < len(word) - 1 :\n",
    "                    if letter in self.consonants and word[i+1] in self.consonants:\n",
    "                        op += \"a\"\n",
    "                    if letter in self.ein and word[i+1] in self.n_sounds:\n",
    "                        op += \"i\"\n",
    "                if i == len(word) - 1 and letter == \"ए\":\n",
    "                    op = \"ye\"\n",
    "                res += op\n",
    "            converted.append(res)\n",
    "        return \" \".join(converted)\n"
   ]
  },
  {
   "cell_type": "code",
   "execution_count": 7,
   "metadata": {},
   "outputs": [],
   "source": [
    "translit = Transliterator()"
   ]
  },
  {
   "cell_type": "code",
   "execution_count": 10,
   "metadata": {},
   "outputs": [
    {
     "data": {
      "text/plain": [
       "'paithan ek samany karyon ke liye upayukt uchch stariy programing bhasha intaraiktiv aubjekt oriented skripting bhasha hai is bhasha ko is tarah se dijain kiya gaya hai taki isamein likhe gye kod aasani se padhe aur samajhe ja sakein'"
      ]
     },
     "execution_count": 10,
     "metadata": {},
     "output_type": "execute_result"
    }
   ],
   "source": [
    "# Here we transliterate a sentence from the Hindi Wiki page for Python\n",
    "translit.convert(\"पाइथन एक सामान्य कार्यों के लिए उपयुक्त, उच्च स्तरीय प्रोग्रामिंग भाषा, इन्टरैक्टिव, ऑब्जेक्ट ओरिएन्टेड, स्क्रिप्टिंग भाषा है। इस भाषा को इस तरह से डिजाइन किया गया है ताकि इसमें लिखे गए कोड आसानी से पढ़े और समझे जा सकें।\")"
   ]
  },
  {
   "cell_type": "markdown",
   "metadata": {},
   "source": [
    "#### Indic language detector\n",
    "\n",
    "For your own language you could probably find sophisticated detectors already and if you do, you could either use their models or fine-tune them. For Hindi, I found [this](https://github.com/irshadbhat/csnli) great transliterated text detector that also reverse translate the Roman scripted text back to its original script. If you're interested, you can go and play with their code, it has models for NMT between Hindi script (Devanagari) and Roman scripted Hindi."
   ]
  },
  {
   "cell_type": "code",
   "execution_count": null,
   "metadata": {},
   "outputs": [],
   "source": []
  }
 ],
 "metadata": {
  "kernelspec": {
   "display_name": "Python 3",
   "language": "python",
   "name": "python3"
  },
  "language_info": {
   "codemirror_mode": {
    "name": "ipython",
    "version": 3
   },
   "file_extension": ".py",
   "mimetype": "text/x-python",
   "name": "python",
   "nbconvert_exporter": "python",
   "pygments_lexer": "ipython3",
   "version": "3.7.3"
  }
 },
 "nbformat": 4,
 "nbformat_minor": 2
}
